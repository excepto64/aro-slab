{
 "cells": [
  {
   "cell_type": "code",
   "execution_count": 16,
   "id": "191b1dcd",
   "metadata": {},
   "outputs": [
    {
     "name": "stdout",
     "output_type": "stream",
     "text": [
      "Nb joints = 3 (nq=2,nv=2)\n",
      "  Joint 0 universe: parent=0\n",
      "  Joint 1 joint1: parent=0\n",
      "  Joint 2 joint2: parent=1\n",
      "\n",
      "0 universe\n",
      "1 joint1\n",
      "2 joint2\n",
      "[0. 0.]\n",
      "You can open the visualizer by visiting the following URL:\n",
      "http://127.0.0.1:7010/static/\n"
     ]
    }
   ],
   "source": [
    "import numpy as np\n",
    "import pinocchio as pin\n",
    "import example_robot_data as robex\n",
    "from utils.meshcat_viewer_wrapper import MeshcatVisualizer, colors  # noqa: E402\n",
    "\n",
    "robot: pin.robot_wrapper.RobotWrapper = robex.load(\"double_pendulum\")\n",
    "print(robot.model)\n",
    "for i, n in enumerate(robot.model.names): # List of all joint names\n",
    "    print(i, n)\n",
    "\n",
    "q0 = robot.q0.copy()\n",
    "print(q0)\n",
    "\n",
    "viz = MeshcatVisualizer(robot)"
   ]
  },
  {
   "cell_type": "code",
   "execution_count": 17,
   "id": "cfc1e386",
   "metadata": {},
   "outputs": [],
   "source": [
    "q0[0] = 0\n",
    "\n",
    "viz.display(q0)"
   ]
  },
  {
   "cell_type": "code",
   "execution_count": null,
   "id": "58cf66b4",
   "metadata": {},
   "outputs": [
    {
     "name": "stdout",
     "output_type": "stream",
     "text": [
      "  R =\n",
      "1 0 0\n",
      "0 1 0\n",
      "0 0 1\n",
      "  p = 0.0290872         0     0.135\n",
      "\n"
     ]
    }
   ],
   "source": [
    "def distance(p1, p2):\n",
    "    \"\"\"Returns the Euclidian distance petween two points\"\"\"\n",
    "    return np.linalg.norm(p1 - p2)\n",
    "\n",
    "p1 = np.array([1,1])\n",
    "p2 = np.array([2,2])\n",
    "\n",
    "distance(p1, p2)\n",
    "\n",
    "print(robot.placement(q0, 2))\n",
    "\n",
    "# Make assumption that joint is a sphere with radius at least that of the r\n",
    "\n",
    "def check_cyl_coll(start, end, r_cyl, c, r_sph):\n",
    "    line = end - start\n",
    "    t = np.clip((c - start).dot(line) / line.dot(line), 0, 1)\n",
    "    point = start + t * line\n",
    "    return distance(point, c) < r_cyl + r_sph\n",
    "\n",
    "# def check_sphere_coll(joint, r_joint, c, r_sph):\n",
    "#     return distance(joint, c) < r_joint + r_sph\n",
    "\n",
    "S = []\n",
    "\n",
    "S_1 = {'c': np.array([1,1]), 'r': 1}\n",
    "\n",
    "r_cyl = []\n",
    "\n",
    "def sphere_collision(q, S):\n",
    "    for i in range(len(q) - 1):\n",
    "        start = robot.placement(q, i)\n",
    "        end = robot.placement(q, i+1)\n",
    "        if check_cyl_coll(start, end, r_cyl[i], S['c'], S['r']):\n",
    "            return True\n",
    "    return False\n"
   ]
  }
 ],
 "metadata": {
  "kernelspec": {
   "display_name": "aro-tut",
   "language": "python",
   "name": "python3"
  },
  "language_info": {
   "codemirror_mode": {
    "name": "ipython",
    "version": 3
   },
   "file_extension": ".py",
   "mimetype": "text/x-python",
   "name": "python",
   "nbconvert_exporter": "python",
   "pygments_lexer": "ipython3",
   "version": "3.9.23"
  }
 },
 "nbformat": 4,
 "nbformat_minor": 5
}
