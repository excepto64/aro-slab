{
 "cells": [
  {
   "cell_type": "markdown",
   "metadata": {},
   "source": [
    "# Direct and inverse geometry of 3d robots\n",
    "This notebook introduces the kinematic tree of Pinocchio for a serial manipulator, explain how to compute the forward and inverse geometry (from configuration to end-effector placements, and inversely). The ideas are examplified with a simplified case-study taken from parallel robotics.\n",
    "\n",
    "**Important: to make sure your repository is easily updated from git shall it be needed, create a copy of this notebook before working on it.**"
   ]
  },
  {
   "cell_type": "code",
   "execution_count": 1,
   "metadata": {},
   "outputs": [
    {
     "name": "stdout",
     "output_type": "stream",
     "text": [
      "NB: as for all the tutorials, a magic command %do_not_load is introduced to hide the solutions to some questions. Change it for %load if you want to see (and execute) the solution.\n"
     ]
    }
   ],
   "source": [
    "import magic_donotload"
   ]
  },
  {
   "cell_type": "markdown",
   "metadata": {},
   "source": [
    "## Set up\n",
    "We will need Pinocchio, meshcat and SciPy for the solvers"
   ]
  },
  {
   "cell_type": "code",
   "execution_count": 2,
   "metadata": {},
   "outputs": [],
   "source": [
    "import time\n",
    "import math\n",
    "import numpy as np\n",
    "from numpy.linalg import norm\n",
    "import pinocchio as pin\n",
    "import example_robot_data as robex\n",
    "from scipy.optimize import fmin_bfgs"
   ]
  },
  {
   "cell_type": "markdown",
   "metadata": {},
   "source": [
    "## Kinematic tree in Pinocchio\n",
    "Let's now play with 3D robots. We will load the models from URDF files.\n",
    "\n",
    "*The robot UR5* is a low-cost manipulator robot with good performances. It is a fixed robot with one 6-DOF arms developed by the Danish company Universal Robot. All its 6 joints are revolute joints. Its configuration is in $\\mathbb{R}^6$ and is not subject to any constraint. The model of UR5 is described in a URDF file, with the visuals of the bodies of the robot being described as meshed (i.e. polygon soups) using the Collada format \".dae\". Both the URDF and the DAE files are available in the repository in the model directory. \n",
    "\n",
    "This robot model, as well as other models used in the notebooks, are installed from the apt paquet example-robot-data.\n"
   ]
  },
  {
   "cell_type": "code",
   "execution_count": 3,
   "metadata": {},
   "outputs": [],
   "source": [
    "# %load lab_0/generated/simple_pick_and_place_1\n",
    "robot = robex.load(\"ur5\")\n"
   ]
  },
  {
   "cell_type": "markdown",
   "metadata": {},
   "source": [
    "The kinematic tree is represented by two C++ objects called Model (which contains the model constants: lengths, masses, names, etc) and Data (which contains the working memory used by the model algorithms). Both C\\++ objects are contained in a unique Python class, called RobotWrapper."
   ]
  },
  {
   "cell_type": "code",
   "execution_count": 4,
   "metadata": {},
   "outputs": [
    {
     "name": "stdout",
     "output_type": "stream",
     "text": [
      "Nb joints = 7 (nq=6,nv=6)\n",
      "  Joint 0 universe: parent=0\n",
      "  Joint 1 shoulder_pan_joint: parent=0\n",
      "  Joint 2 shoulder_lift_joint: parent=1\n",
      "  Joint 3 elbow_joint: parent=2\n",
      "  Joint 4 wrist_1_joint: parent=3\n",
      "  Joint 5 wrist_2_joint: parent=4\n",
      "  Joint 6 wrist_3_joint: parent=5\n",
      "\n"
     ]
    }
   ],
   "source": [
    "print(robot.model)"
   ]
  },
  {
   "cell_type": "markdown",
   "metadata": {},
   "source": [
    "Here are some import methods of the RobotWrapper class.\n"
   ]
  },
  {
   "cell_type": "markdown",
   "metadata": {},
   "source": [
    "* robot.q0 contains a reference initial configuration of the robot (not a pretty good one for the UR-5)."
   ]
  },
  {
   "cell_type": "code",
   "execution_count": 8,
   "metadata": {},
   "outputs": [
    {
     "data": {
      "text/plain": [
       "array([0., 0., 0., 0., 0., 0.])"
      ]
     },
     "execution_count": 8,
     "metadata": {},
     "output_type": "execute_result"
    }
   ],
   "source": [
    "robot.q0"
   ]
  },
  {
   "cell_type": "markdown",
   "metadata": {},
   "source": [
    "* robot.index('joint name') returns the index of the joint."
   ]
  },
  {
   "cell_type": "code",
   "execution_count": 5,
   "metadata": {},
   "outputs": [
    {
     "data": {
      "text/plain": [
       "7"
      ]
     },
     "execution_count": 5,
     "metadata": {},
     "output_type": "execute_result"
    }
   ],
   "source": [
    "robot.index(' wrist_3_joint')"
   ]
  },
  {
   "cell_type": "markdown",
   "metadata": {},
   "source": [
    "* robot.model.names is a container (~list) that contains all the joint names"
   ]
  },
  {
   "cell_type": "code",
   "execution_count": 6,
   "metadata": {},
   "outputs": [
    {
     "name": "stdout",
     "output_type": "stream",
     "text": [
      "0 universe\n",
      "1 shoulder_pan_joint\n",
      "2 shoulder_lift_joint\n",
      "3 elbow_joint\n",
      "4 wrist_1_joint\n",
      "5 wrist_2_joint\n",
      "6 wrist_3_joint\n"
     ]
    }
   ],
   "source": [
    "for i, n in enumerate(robot.model.names):\n",
    "    print(i, n)"
   ]
  },
  {
   "cell_type": "markdown",
   "metadata": {},
   "source": [
    "* robot.model.frames contains all the import frames attached to the robot. "
   ]
  },
  {
   "cell_type": "code",
   "execution_count": 7,
   "metadata": {},
   "outputs": [
    {
     "name": "stdout",
     "output_type": "stream",
     "text": [
      "universe attached to joint # 0\n",
      "world attached to joint # 0\n",
      "world_joint attached to joint # 0\n",
      "base_link attached to joint # 0\n",
      "base_link-base_fixed_joint attached to joint # 0\n",
      "base attached to joint # 0\n",
      "shoulder_pan_joint attached to joint # 1\n",
      "shoulder_link attached to joint # 1\n",
      "shoulder_lift_joint attached to joint # 2\n",
      "upper_arm_link attached to joint # 2\n",
      "elbow_joint attached to joint # 3\n",
      "forearm_link attached to joint # 3\n",
      "wrist_1_joint attached to joint # 4\n",
      "wrist_1_link attached to joint # 4\n",
      "wrist_2_joint attached to joint # 5\n",
      "wrist_2_link attached to joint # 5\n",
      "wrist_3_joint attached to joint # 6\n",
      "wrist_3_link attached to joint # 6\n",
      "ee_fixed_joint attached to joint # 6\n",
      "ee_link attached to joint # 6\n",
      "wrist_3_link-tool0_fixed_joint attached to joint # 6\n",
      "tool0 attached to joint # 6\n"
     ]
    },
    {
     "name": "stderr",
     "output_type": "stream",
     "text": [
      "/tmp/ipykernel_9105/2471843488.py:2: UserWarning: Deprecated member. Use Frame.parentJoint instead.\n",
      "  print(f.name, 'attached to joint #', f.parent)\n"
     ]
    }
   ],
   "source": [
    "for f in robot.model.frames:\n",
    "    print(f.name, 'attached to joint #', f.parent)"
   ]
  },
  {
   "cell_type": "markdown",
   "metadata": {},
   "source": [
    "* robot.placement(q, idx) and robot.framePlacement(idx) returns the placement (i.e. translation+rotation of the joint / frame) in argument for a given configuration."
   ]
  },
  {
   "cell_type": "code",
   "execution_count": 8,
   "metadata": {},
   "outputs": [
    {
     "data": {
      "text/plain": [
       "SE3(array([[-1.0000000e+00,  0.0000000e+00,  9.7932773e-12,  8.1725000e-01],[ 0.0000000e+00,  1.0000000e+00,  0.0000000e+00,  1.0915000e-01],[-9.7932773e-12,  0.0000000e+00, -1.0000000e+00, -5.4910000e-03],[ 0.0000000e+00,  0.0000000e+00,  0.0000000e+00,  1.0000000e+00]]))"
      ]
     },
     "execution_count": 8,
     "metadata": {},
     "output_type": "execute_result"
    }
   ],
   "source": [
    "robot.placement(robot.q0, 6)  # Placement of the end effector."
   ]
  },
  {
   "cell_type": "markdown",
   "metadata": {},
   "source": [
    "The dimension of the configuration space (i.e. the number of joints) is given in:"
   ]
  },
  {
   "cell_type": "code",
   "execution_count": 9,
   "metadata": {},
   "outputs": [],
   "source": [
    "NQ = robot.model.nq\n",
    "NV = robot.model.nv  # for this simple robot, NV == NQ"
   ]
  },
  {
   "cell_type": "markdown",
   "metadata": {},
   "source": [
    "## Display simple geometries\n",
    "The robot is displayed in the viewer. We are going to use Meshcat to visualize the 3d robot and scene. First open the viewer and load the robot geometries."
   ]
  },
  {
   "cell_type": "code",
   "execution_count": 10,
   "metadata": {},
   "outputs": [
    {
     "name": "stdout",
     "output_type": "stream",
     "text": [
      "You can open the visualizer by visiting the following URL:\n",
      "http://127.0.0.1:7000/static/\n"
     ]
    }
   ],
   "source": [
    "from utils.meshcat_viewer_wrapper import MeshcatVisualizer, colors  # noqa: E402\n",
    "\n",
    "viz = MeshcatVisualizer(robot)"
   ]
  },
  {
   "cell_type": "code",
   "execution_count": 11,
   "metadata": {},
   "outputs": [
    {
     "data": {
      "text/html": [
       "\n",
       "            <div style=\"height: 400px; width: 100%; overflow-x: auto; overflow-y: hidden; resize: both\">\n",
       "            <iframe src=\"http://127.0.0.1:7000/static/\" style=\"width: 100%; height: 100%; border: none\"></iframe>\n",
       "            </div>\n",
       "            "
      ],
      "text/plain": [
       "<IPython.core.display.HTML object>"
      ]
     },
     "execution_count": 11,
     "metadata": {},
     "output_type": "execute_result"
    }
   ],
   "source": [
    "viz.viewer.jupyter_cell()"
   ]
  },
  {
   "cell_type": "markdown",
   "metadata": {},
   "source": [
    "As a reminder, a configuration *q* can be displayed in the viewer:"
   ]
  },
  {
   "cell_type": "code",
   "execution_count": 25,
   "metadata": {},
   "outputs": [],
   "source": [
    "q = np.array([0, 1.5, 0.5, 0, 0, 0])*np.pi\n",
    "\n",
    "viz.display(q)"
   ]
  },
  {
   "cell_type": "markdown",
   "metadata": {},
   "source": [
    "Other geometries (cubes, spheres, etc) can be displayed as well."
   ]
  },
  {
   "cell_type": "code",
   "execution_count": 78,
   "metadata": {},
   "outputs": [],
   "source": [
    "# %load lab_0/generated/simple_pick_and_place_2\n",
    "# Add a red box in the viewer\n",
    "ballID = \"world/ball\"\n",
    "viz.addSphere(ballID, 0.1, colors.red)\n",
    "\n",
    "# Place the ball at the position ( 0.5, 0.1, 0.2 )\n",
    "# The viewer expect position and rotation, apppend the identity quaternion\n",
    "q_ball = [0.5, 0.1, 0.2, 1, 0, 0, 0]\n",
    "viz.applyConfiguration(ballID, q_ball)\n"
   ]
  },
  {
   "cell_type": "markdown",
   "metadata": {},
   "source": [
    "# Forward (direct) geometry\n",
    "\n",
    "First, let's do some forward geometry, i.e. use Pinocchio to compute where is the end effector knowning the robot configuration. To achieve this we are going to emulate a pick and place scenario (with no physics involved). The red ball we created will be attached to the end effector and thus must move along with it.\n",
    "\n",
    "# Simple pick ...\n",
    "\n",
    "Say we have a target at position [.5,.1,.2] and we would like the robot to grasp it.\n",
    "First decide (by any way you want, e.g. trial and error) the configuration of the robot so that the end effector touches the ball. For that, modify the template code below.\n"
   ]
  },
  {
   "cell_type": "code",
   "execution_count": 57,
   "metadata": {},
   "outputs": [],
   "source": [
    "q0 = np.zeros(NQ)  # set the correct values here\n",
    "q0[0] = -0.1\n",
    "q0[1] = -0.4\n",
    "q0[2] = -1.45\n",
    "q0[3] = 0.\n",
    "q0[4] = 0.\n",
    "q0[5] = 0.\n",
    "\n",
    "q0 = q0.copy() * np.pi\n",
    "\n",
    "viz.display(q0)\n",
    "\n",
    "# Take care to explicitely mention copy when you want a copy of array.\n",
    "q = q0.copy() * np.pi"
   ]
  },
  {
   "cell_type": "markdown",
   "metadata": {},
   "source": [
    "Here is a the solution, should you need it."
   ]
  },
  {
   "cell_type": "code",
   "execution_count": 88,
   "metadata": {},
   "outputs": [],
   "source": [
    "# %load lab_0/generated/simple_pick_and_place_3\n",
    "q0 = np.zeros(NQ)  # set the correct values here\n",
    "q0[0] = -0.375\n",
    "q0[1] = -1.2\n",
    "q0[2] = 1.71\n",
    "q0[3] = -q0[1] - q0[2]\n",
    "q0[4] = q0[0]\n",
    "q0[5] = 0.0\n",
    "\n",
    "viz.display(q0)\n",
    "q_init = q0.copy()\n"
   ]
  },
  {
   "cell_type": "markdown",
   "metadata": {},
   "source": [
    "# ... and simple place"
   ]
  },
  {
   "cell_type": "markdown",
   "metadata": {},
   "source": [
    "At the reference position you built, the end effector placement can be obtained by calling "
   ]
  },
  {
   "cell_type": "code",
   "execution_count": null,
   "metadata": {},
   "outputs": [
    {
     "data": {
      "text/plain": [
       "SE3(array([[-0.97195203, -0.11008565,  0.20782299,  0.48578545],[-0.1101395 ,  0.99385135,  0.01134842, -0.23836806],[-0.20779446, -0.0118594 , -0.97810062,  0.16581901],[ 0. ,  0. ,  0. ,  1. ]]))"
      ]
     },
     "execution_count": 107,
     "metadata": {},
     "output_type": "execute_result"
    }
   ],
   "source": [
    "robot.placement(q, 6).translation"
   ]
  },
  {
   "cell_type": "markdown",
   "metadata": {},
   "source": [
    "Only the translation part of the placement has been selected. The rotation is free.\n",
    "\n",
    "Now, choose any trajectory you want in the configuration space (it can be sinus-cosinus waves, polynomials, splines, straight lines). Make a for loop to display the robot at sampling positions along this trajectory. The function sleep can be used to slow down the loop."
   ]
  },
  {
   "cell_type": "code",
   "execution_count": 66,
   "metadata": {},
   "outputs": [],
   "source": [
    "q_ball = [0.5, 0.1, 0.2, 1, 0, 0, 0]\n",
    "for i in range(50):\n",
    "    q0 = np.array([np.sin(i/10), np.sin(i/10), np.sin(i/10), np.sin(i/10), np.sin(i/10), np.sin(i/10)]) * np.pi\n",
    "    q = q0.copy()\n",
    "    endeff = robot.placement(q, 6).translation\n",
    "    q_ball[0:3] = endeff\n",
    "    viz.applyConfiguration(ballID, q_ball)\n",
    "    viz.display(q0)\n",
    "    time.sleep(.1)  # in second"
   ]
  },
  {
   "cell_type": "markdown",
   "metadata": {},
   "source": [
    "At each instant of your loop, recompute the position of the ball and display it so that it always \"sticks\" to the robot end effector, by modifying the template code below:"
   ]
  },
  {
   "cell_type": "code",
   "execution_count": 113,
   "metadata": {},
   "outputs": [
    {
     "name": "stdout",
     "output_type": "stream",
     "text": [
      "[-0.00182315  0.18022936  0.00086191]\n",
      "[-0.00182315  0.18022936  0.00086191]\n"
     ]
    }
   ],
   "source": [
    "q_ball = [0.5, 0.1, 0.2, 1, 0, 0, 0]\n",
    "viz.applyConfiguration(ballID, q_ball)\n",
    "\n",
    "# TODO ####################################################\n",
    "# Replace here with your initial configuration\n",
    "\n",
    "q0 = np.zeros(NQ)  # set the correct values here\n",
    "q0[0] = -0.375\n",
    "q0[1] = -1.2\n",
    "q0[2] = 1.71\n",
    "q0[3] = -q0[1] - q0[2]\n",
    "q0[4] = q0[0]\n",
    "q0[5] = 0.0\n",
    "viz.display(q0)\n",
    "# q0 = np.random.rand(NQ) * 6 - 3\n",
    "q = q0.copy()\n",
    "\n",
    "# # TODO ####################################################\n",
    "\n",
    "# Compute initial translation between effector and box.\n",
    "# Translation of end-eff wrt world at initial configuration\n",
    "o_eff = robot.placement(q, 6).translation\n",
    "# Translation of ball wrt world\n",
    "o_ball = q_ball[:3]\n",
    "eff_ball = o_ball - o_eff\n",
    "\n",
    "print(eff_ball)\n",
    "\n",
    "\n",
    "\n",
    "for i in range(10):\n",
    "    # Replace here by your choice of computing q(t)\n",
    "    q += np.random.rand(6) * 2e-1 - 1e-1\n",
    "\n",
    "    # TODO ####################################################\n",
    "    # Replace here by your computation of the new box position\n",
    "    o_ball = robot.placement(q, 6).translation + eff_ball\n",
    "    # /TODO ###################################################\n",
    "\n",
    "    # Display the new robot and box configurations.\n",
    "    # The viewer expect a placement (position-rotation).\n",
    "    viz.applyConfiguration(ballID, o_ball.tolist() + [1, 0, 0, 0])\n",
    "    viz.display(q)\n",
    "    time.sleep(0.1)\n",
    "\n",
    "print(o_ball - o_eff)"
   ]
  },
  {
   "cell_type": "markdown",
   "metadata": {},
   "source": [
    "The solution is below, should you need it."
   ]
  },
  {
   "cell_type": "code",
   "execution_count": 116,
   "metadata": {},
   "outputs": [
    {
     "name": "stdout",
     "output_type": "stream",
     "text": [
      "  R =\n",
      " -0.994345 -0.0482451 -0.0946072\n",
      "-0.0514635   0.998166  0.0318777\n",
      " 0.0928958  0.0365662  -0.995004\n",
      "  p =   0.496251 -0.0520312   0.199611\n",
      "\n",
      "[-0.00182315  0.18022936  0.00086191]\n",
      "  R =\n",
      " -0.972433 -0.0909489  -0.214713\n",
      " -0.106202   0.992497  0.0605811\n",
      "  0.207593   0.081714  -0.974796\n",
      "  p =   0.482295 -0.0226675   0.193029\n",
      "\n",
      "[-0.00182315  0.18022936  0.00086191]\n",
      "  R =\n",
      "-0.933805 -0.127802 -0.334178\n",
      "-0.162019  0.983819 0.0764852\n",
      " 0.318996  0.125565 -0.939401\n",
      "  p =   0.466818 0.00512916   0.188031\n",
      "\n",
      "[-0.00182315  0.18022936  0.00086191]\n",
      "  R =\n",
      "-0.878744 -0.158786 -0.450107\n",
      "-0.216584  0.973015 0.0795828\n",
      " 0.425324  0.167419 -0.889421\n",
      "  p =   0.45014 0.0312544  0.184584\n",
      "\n",
      "[-0.00182315  0.18022936  0.00086191]\n",
      "  R =\n",
      "-0.808001 -0.184065 -0.559692\n",
      "-0.267623  0.960954 0.0703282\n",
      " 0.524893  0.206612 -0.825711\n",
      "  p =  0.432581 0.0556524  0.182629\n",
      "\n",
      "[-0.00182315  0.18022936  0.00086191]\n",
      "  R =\n",
      "-0.722769 -0.203976 -0.660302\n",
      "-0.312996  0.948458 0.0496157\n",
      " 0.616148  0.242532  -0.74936\n",
      "  p =  0.414453 0.0783153  0.182085\n",
      "\n",
      "[-0.00182315  0.18022936  0.00086191]\n",
      "  R =\n",
      "-0.624647 -0.219013 -0.749566\n",
      "-0.350768  0.936275 0.0187431\n",
      " 0.697695  0.274631 -0.661664\n",
      "  p =  0.396051 0.0992808  0.182849\n",
      "\n",
      "[-0.00182315  0.18022936  0.00086191]\n",
      "  R =\n",
      " -0.515583  -0.229811  -0.825446\n",
      " -0.379279   0.925052 -0.0206404\n",
      "  0.768324   0.302433  -0.564104\n",
      "  p = 0.377647 0.118627 0.184797\n",
      "\n",
      "[-0.00182315  0.18022936  0.00086191]\n",
      "  R =\n",
      " -0.397813  -0.237115  -0.886296\n",
      " -0.397197   0.915314 -0.0665971\n",
      "  0.827031   0.325541  -0.458305\n",
      "  p = 0.359479 0.136469 0.187793\n",
      "\n",
      "[-0.00182315  0.18022936  0.00086191]\n",
      "  R =\n",
      "-0.273787 -0.241755 -0.930911\n",
      "-0.403555  0.907447 -0.116974\n",
      " 0.873031  0.343648 -0.346009\n",
      "  p = 0.341748 0.152951 0.191683\n",
      "\n",
      "[-0.00182315  0.18022936  0.00086191]\n",
      "  R =\n",
      " -0.14609 -0.244616 -0.958551\n",
      "-0.397784   0.90169  -0.16948\n",
      " 0.905774  0.356537 -0.229032\n",
      "  p = 0.324616 0.168238 0.196307\n",
      "\n",
      "[-0.00182315  0.18022936  0.00086191]\n",
      "  R =\n",
      "-0.0173636  -0.246603  -0.968961\n",
      " -0.379718   0.898127  -0.221771\n",
      "  0.924939   0.364081  -0.109234\n",
      "  p = 0.308201 0.182512 0.201499\n",
      "\n",
      "[-0.00182315  0.18022936  0.00086191]\n",
      "  R =\n",
      " 0.109781 -0.248614 -0.962361\n",
      "-0.349598   0.89669 -0.271529\n",
      " 0.930446  0.366248 0.0115247\n",
      "  p = 0.292575 0.195961  0.20709\n",
      "\n",
      "[-0.00182315  0.18022936  0.00086191]\n",
      "  R =\n",
      " 0.232836 -0.251505 -0.939432\n",
      "-0.308052  0.897166  -0.31654\n",
      " 0.922438  0.363096  0.131416\n",
      "  p = 0.277769 0.208773 0.212912\n",
      "\n",
      "[-0.00182315  0.18022936  0.00086191]\n",
      "  R =\n",
      "  0.34947 -0.256066 -0.901277\n",
      "-0.256066  0.899206 -0.354767\n",
      " 0.901277  0.354767  0.248675\n",
      "  p = 0.263771 0.221129 0.218802\n",
      "\n",
      "[-0.00182315  0.18022936  0.00086191]\n",
      "  R =\n",
      " 0.457592 -0.262994 -0.849379\n",
      " -0.19494  0.902344 -0.384415\n",
      "  0.86753  0.341483  0.361637\n",
      "  p = 0.250531 0.233195 0.224603\n",
      "\n",
      "[-0.00182315  0.18022936  0.00086191]\n",
      "  R =\n",
      " 0.555403 -0.272872 -0.785537\n",
      "-0.126241  0.906015  -0.40398\n",
      " 0.821943  0.323539  0.468756\n",
      "  p = 0.237967 0.245118  0.23017\n",
      "\n",
      "[-0.00182315  0.18022936  0.00086191]\n",
      "  R =\n",
      "  0.641439  -0.286157  -0.711808\n",
      "-0.0517436   0.909581  -0.412293\n",
      "  0.765427   0.301292   0.568634\n",
      "  p = 0.225967 0.257022  0.23537\n",
      "\n",
      "[-0.00182315  0.18022936  0.00086191]\n",
      "  R =\n",
      " 0.714598 -0.303165  -0.63043\n",
      "0.0266333  0.912349 -0.408547\n",
      " 0.699029  0.275156  0.660036\n",
      "  p = 0.214396 0.269004 0.240083\n",
      "\n",
      "[-0.00182315  0.18022936  0.00086191]\n",
      "  R =\n",
      " 0.774154 -0.324066 -0.543752\n",
      " 0.106889  0.913602 -0.392309\n",
      " 0.623907  0.245586  0.741908\n",
      "  p = 0.203104  0.28113 0.244206\n",
      "\n",
      "[-0.00182315  0.18022936  0.00086191]\n",
      "  R =\n",
      " 0.819766 -0.348884 -0.454163\n",
      " 0.187006  0.912622 -0.363523\n",
      " 0.541307  0.213073   0.81338\n",
      "  p = 0.191932 0.293436 0.247654\n",
      "\n",
      "[-0.00182315  0.18022936  0.00086191]\n",
      "  R =\n",
      "  0.85146 -0.377502 -0.364015\n",
      " 0.265012  0.908715 -0.322501\n",
      " 0.452531  0.178128  0.873777\n",
      "  p = 0.180715  0.30593 0.250357\n",
      "\n",
      "[-0.00182315  0.18022936  0.00086191]\n",
      "  R =\n",
      " 0.869618 -0.409668 -0.275567\n",
      " 0.339034  0.901228 -0.269895\n",
      " 0.358916  0.141279  0.922616\n",
      "  p = 0.169292 0.318589 0.252265\n",
      "\n",
      "[-0.00182315  0.18022936  0.00086191]\n",
      "  R =\n",
      "  0.87494 -0.445006 -0.190919\n",
      " 0.407354  0.889578 -0.206672\n",
      " 0.261807  0.103054  0.959602\n",
      "  p = 0.157509 0.331361 0.253345\n",
      "\n",
      "[-0.00182315  0.18022936  0.00086191]\n",
      "  R =\n",
      " 0.868413 -0.483035 -0.111965\n",
      " 0.468446  0.873261 -0.134069\n",
      " 0.162534 0.0639777  0.984627\n",
      "  p = 0.145223 0.344175  0.25358\n",
      "\n",
      "[-0.00182315  0.18022936  0.00086191]\n",
      "  R =\n",
      "  0.851264  -0.523183  -0.040353\n",
      "  0.521015   0.851866 -0.0535475\n",
      " 0.0623905  0.0245586    0.99775\n",
      "  p = 0.132309 0.356933 0.252972\n",
      "\n",
      "[-0.00182315  0.18022936  0.00086191]\n",
      "  R =\n",
      "  0.824914  -0.564808  0.0225453\n",
      "  0.564021   0.825091  0.0332534\n",
      "-0.0373837 -0.0147152   0.999193\n",
      "  p =  0.11866 0.369525 0.251536\n",
      "\n",
      "[-0.00182315  0.18022936  0.00086191]\n",
      "  R =\n",
      "  0.790926  -0.607217  0.0756576\n",
      "  0.596694   0.792741   0.124573\n",
      "  -0.13562 -0.0533835   0.989322\n",
      "  p = 0.104192 0.381824 0.249302\n",
      "\n",
      "[-0.00182315  0.18022936  0.00086191]\n",
      "  R =\n",
      " 0.750956 -0.649684   0.11822\n",
      " 0.618544  0.754736  0.218579\n",
      "-0.231232 -0.091019  0.968632\n",
      "  p = 0.0888414  0.393696  0.246313\n",
      "\n",
      "[-0.00182315  0.18022936  0.00086191]\n",
      "  R =\n",
      " 0.706705 -0.691473  0.149777\n",
      " 0.629358   0.71111   0.31342\n",
      "-0.323229 -0.127232  0.937729\n",
      "  p = 0.0725703  0.405003  0.242624\n",
      "\n",
      "[-0.00182315  0.18022936  0.00086191]\n",
      "  R =\n",
      " 0.659867 -0.731857  0.170178\n",
      " 0.629191  0.662003  0.407272\n",
      "-0.410723 -0.161672  0.897312\n",
      "  p = 0.0553634  0.415604  0.238298\n",
      "\n",
      "[-0.00182315  0.18022936  0.00086191]\n",
      "  R =\n",
      " 0.612093 -0.770131  0.179555\n",
      " 0.618353  0.607659  0.498387\n",
      "-0.492931 -0.194031  0.848157\n",
      "  p = 0.0372282  0.425361  0.233406\n",
      "\n",
      "[-0.00182315  0.18022936  0.00086191]\n",
      "  R =\n",
      " 0.564946 -0.805631  0.178308\n",
      " 0.597384  0.548418  0.585124\n",
      "-0.569182 -0.224045  0.791098\n",
      "  p = 0.0181935  0.434143  0.228028\n",
      "\n",
      "[-0.00182315  0.18022936  0.00086191]\n",
      "  R =\n",
      " 0.519873 -0.837746  0.167076\n",
      " 0.567031  0.484699   0.66599\n",
      "-0.638912 -0.251493  0.727009\n",
      "  p = -0.00169201    0.441825    0.222245\n",
      "\n",
      "[-0.00182315  0.18022936  0.00086191]\n",
      "  R =\n",
      " 0.478172 -0.865927  0.146703\n",
      " 0.528215  0.416997  0.739664\n",
      " -0.70167 -0.276196  0.656792\n",
      "  p = -0.0223623   0.448296   0.216144\n",
      "\n",
      "[-0.00182315  0.18022936  0.00086191]\n",
      "  R =\n",
      " 0.440977   -0.8897  0.118207\n",
      " 0.482006  0.345861  0.805016\n",
      "-0.757106 -0.298017  0.581357\n",
      "  p = -0.043736  0.453454  0.209812\n",
      "\n",
      "[-0.00182315  0.18022936  0.00086191]\n",
      "  R =\n",
      " 0.409238 -0.908668 0.0827458\n",
      " 0.429583  0.271889  0.861124\n",
      "-0.804973 -0.316859  0.501615\n",
      "  p = -0.0657189   0.457213    0.20334\n",
      "\n",
      "[-0.00182315  0.18022936  0.00086191]\n",
      "  R =\n",
      " 0.383715 -0.922515 0.0415793\n",
      " 0.372206  0.195709  0.907282\n",
      "-0.845119 -0.332661  0.418462\n",
      "  p = -0.0882064   0.459501   0.196815\n",
      "\n",
      "[-0.00182315  0.18022936  0.00086191]\n",
      "  R =\n",
      "   0.364968   -0.931012 -0.00396409\n",
      "   0.311182    0.117972       0.943\n",
      "  -0.877476   -0.345398    0.332769\n",
      "  p = -0.111086   0.46026  0.190323\n",
      "\n",
      "[-0.00182315  0.18022936  0.00086191]\n",
      "  R =\n",
      "  0.353365   -0.93401 -0.0525208\n",
      "  0.247834  0.0393308   0.968004\n",
      "  -0.90206  -0.355075   0.245378\n",
      "  p = -0.134239  0.459447  0.183949\n",
      "\n",
      "[-0.00182315  0.18022936  0.00086191]\n",
      "  R =\n",
      "  0.349082  -0.931445  -0.102724\n",
      "  0.183476 -0.0395624   0.982228\n",
      " -0.918955  -0.361725   0.157087\n",
      "  p = -0.157543  0.457036  0.177774\n",
      "\n",
      "[-0.00182315  0.18022936  0.00086191]\n",
      "  R =\n",
      " 0.352114 -0.923329 -0.153231\n",
      " 0.119382 -0.118072  0.985803\n",
      "-0.928312 -0.365408 0.0686537\n",
      "  p = -0.180876  0.453012  0.171874\n",
      "\n",
      "[-0.00182315  0.18022936  0.00086191]\n",
      "  R =\n",
      "  0.362288  -0.909747   -0.20275\n",
      " 0.0567677  -0.195587   0.979042\n",
      " -0.930336  -0.366205 -0.0192145\n",
      "  p = -0.204113  0.447374  0.166321\n",
      "\n",
      "[-0.00182315  0.18022936  0.00086191]\n",
      "  R =\n",
      "   0.379273   -0.890854   -0.250062\n",
      "-0.00323124   -0.271527    0.962425\n",
      "  -0.925279   -0.364214   -0.105862\n",
      "  p = -0.227132  0.440134  0.161184\n",
      "\n",
      "[-0.00182315  0.18022936  0.00086191]\n",
      "  R =\n",
      "  0.402603  -0.866864  -0.294037\n",
      "-0.0595756  -0.345354    0.93658\n",
      " -0.913434  -0.359552  -0.190684\n",
      "  p = -0.249813  0.431315  0.156525\n",
      "\n",
      "[-0.00182315  0.18022936  0.00086191]\n",
      "  R =\n",
      " 0.431686 -0.838046 -0.333655\n",
      "-0.111335 -0.416571   0.90226\n",
      "-0.895126 -0.352346 -0.273132\n",
      "  p = -0.272042  0.420951  0.152399\n",
      "\n",
      "[-0.00182315  0.18022936  0.00086191]\n",
      "  R =\n",
      " 0.465833 -0.804716 -0.368012\n",
      "  -0.1577 -0.484733  0.860328\n",
      "-0.870707 -0.342733 -0.352708\n",
      "  p = -0.293705  0.409084  0.148858\n",
      "\n",
      "[-0.00182315  0.18022936  0.00086191]\n",
      "  R =\n",
      " 0.504265 -0.767229 -0.396329\n",
      "-0.197985 -0.549446  0.811734\n",
      "-0.840547 -0.330862 -0.428966\n",
      "  p = -0.314697  0.395764  0.145947\n",
      "\n",
      "[-0.00182315  0.18022936  0.00086191]\n",
      "  R =\n",
      " 0.546141 -0.725973 -0.417964\n",
      "-0.231637 -0.610369  0.757492\n",
      "-0.805031 -0.316881 -0.501509\n",
      "  p = -0.334917  0.381051  0.143706\n",
      "\n",
      "[-0.00182315  0.18022936  0.00086191]\n",
      "  R =\n",
      "  0.59057  -0.68136 -0.432408\n",
      "-0.258236 -0.667217  0.698667\n",
      "-0.764553 -0.300948  -0.56999\n",
      "  p = -0.354269  0.365009  0.142169\n",
      "\n",
      "[-0.00182315  0.18022936  0.00086191]\n",
      "  R =\n",
      "  0.63663  -0.63382 -0.439288\n",
      "-0.277492 -0.719763  0.636349\n",
      "-0.719514  -0.28322 -0.634102\n",
      "  p = -0.372665   0.34771  0.141363\n",
      "\n",
      "[-0.00182315  0.18022936  0.00086191]\n",
      "  R =\n",
      " 0.683384 -0.583797 -0.438368\n",
      "-0.289248 -0.767829  0.571642\n",
      "-0.670315 -0.263854 -0.693584\n",
      "  p = -0.390021  0.329228  0.141312\n",
      "\n",
      "[-0.00182315  0.18022936  0.00086191]\n",
      "  R =\n",
      " 0.729896 -0.531738 -0.429542\n",
      "-0.293471 -0.811296  0.505642\n",
      "-0.617355 -0.243007 -0.748211\n",
      "  p = -0.40626 0.309644 0.142032\n",
      "\n",
      "[-0.00182315  0.18022936  0.00086191]\n",
      "  R =\n",
      " 0.775241 -0.478091 -0.412832\n",
      "-0.290249 -0.850094  0.439426\n",
      "-0.561032 -0.220837 -0.797793\n",
      "  p = -0.421314  0.289044  0.143537\n",
      "\n",
      "[-0.00182315  0.18022936  0.00086191]\n",
      "  R =\n",
      " 0.818523 -0.423299 -0.388379\n",
      "-0.279787 -0.884202   0.37404\n",
      "-0.501736 -0.197497 -0.842173\n",
      "  p = -0.435118  0.267515  0.145834\n",
      "\n",
      "[-0.00182315  0.18022936  0.00086191]\n",
      "  R =\n",
      " 0.858882 -0.367793  -0.35644\n",
      "-0.262394 -0.913647   0.31048\n",
      "-0.439853 -0.173138 -0.881222\n",
      "  p = -0.447617  0.245148  0.148924\n",
      "\n",
      "[-0.00182315  0.18022936  0.00086191]\n",
      "  R =\n",
      " 0.895506 -0.311993 -0.317377\n",
      " -0.23848   -0.9385  0.249688\n",
      " -0.37576 -0.147909 -0.914837\n",
      "  p = -0.458761  0.222038  0.152807\n",
      "\n",
      "[-0.00182315  0.18022936  0.00086191]\n",
      "  R =\n",
      "  0.92764 -0.256301 -0.271651\n",
      "-0.208546 -0.958873   0.19254\n",
      "-0.309827 -0.121956 -0.942939\n",
      "  p = -0.468507  0.198281  0.157476\n",
      "\n",
      "[-0.00182315  0.18022936  0.00086191]\n",
      "  R =\n",
      "  0.954591  -0.201094   -0.21981\n",
      " -0.173176  -0.974913   0.139837\n",
      " -0.242416 -0.0954213  -0.965468\n",
      "  p = -0.476823  0.173976  0.162921\n",
      "\n",
      "[-0.00182315  0.18022936  0.00086191]\n",
      "  R =\n",
      "  0.97574  -0.14673 -0.162484\n",
      "-0.133024 -0.986806 0.0922984\n",
      "-0.173883 -0.068445 -0.982385\n",
      "  p = -0.483681  0.149223  0.169128\n",
      "\n",
      "[-0.00182315  0.18022936  0.00086191]\n",
      "  R =\n",
      "  0.990543 -0.0935371  -0.100374\n",
      "-0.0888127  -0.994764   0.050557\n",
      " -0.104577 -0.0411644  -0.993664\n",
      "  p = -0.489064  0.124121  0.176079\n",
      "\n",
      "[-0.00182315  0.18022936  0.00086191]\n",
      "  R =\n",
      "  0.998538 -0.0418156 -0.0342417\n",
      "-0.0413166  -0.999031  0.0151517\n",
      "-0.0348421 -0.0137148  -0.999299\n",
      "  p = -0.492961 0.0987731  0.183754\n",
      "\n",
      "[-0.00182315  0.18022936  0.00086191]\n",
      "  R =\n",
      "  0.999351  0.0081655  0.0350981\n",
      "0.00864305  -0.999872 -0.0134758\n",
      " 0.0349835  0.0137704  -0.999293\n",
      "  p = -0.495373 0.0732787   0.19213\n",
      "\n",
      "[-0.00182315  0.18022936  0.00086191]\n",
      "  R =\n",
      "  0.992694  0.0561695   0.106788\n",
      " 0.0602091  -0.997573 -0.0349852\n",
      "  0.104564  0.0411592  -0.993666\n",
      "  p = -0.496305 0.0477374  0.201178\n",
      "\n",
      "[-0.00182315  0.18022936  0.00086191]\n",
      "  R =\n",
      "  0.978376   0.101994   0.179939\n",
      "  0.112497  -0.992436 -0.0491402\n",
      "  0.173566  0.0683203   -0.98245\n",
      "  p = -0.495777 0.0222462  0.210871\n",
      "\n",
      "[-0.00182315  0.18022936  0.00086191]\n",
      "  R =\n",
      "  0.956298   0.145472   0.253637\n",
      "  0.164607  -0.984779 -0.0558115\n",
      "  0.241658   0.095123  -0.965688\n",
      "  p =   -0.493812 -0.00310065    0.221176\n",
      "\n",
      "[-0.00182315  0.18022936  0.00086191]\n",
      "  R =\n",
      "  0.92646  0.186472  0.326956\n",
      " 0.215629 -0.974926 -0.054978\n",
      " 0.308506  0.121436 -0.943439\n",
      "  p =  -0.490447 -0.0282132    0.23206\n",
      "\n",
      "[-0.00182315  0.18022936  0.00086191]\n",
      "  R =\n",
      "  0.888958   0.224901   0.398965\n",
      "  0.264658   -0.96321 -0.0467283\n",
      "  0.373777   0.147129  -0.915775\n",
      "  p =  -0.485724 -0.0530063   0.243485\n",
      "\n",
      "[-0.00182315  0.18022936  0.00086191]\n",
      "  R =\n",
      "  0.843988   0.260703   0.468741\n",
      "    0.3108  -0.949961 -0.0312609\n",
      "  0.437136   0.172068  -0.882782\n",
      "  p = -0.479694 -0.077401  0.255415\n",
      "\n",
      "[-0.00182315  0.18022936  0.00086191]\n",
      "  R =\n",
      "   0.791843     0.29386    0.535379\n",
      "   0.353183   -0.935512 -0.00888418\n",
      "   0.498243    0.196122   -0.844565\n",
      "  p = -0.472417 -0.101326  0.267808\n",
      "\n",
      "[-0.00182315  0.18022936  0.00086191]\n",
      "  R =\n",
      " 0.732915   0.32439  0.598002\n",
      " 0.390971 -0.920186 0.0199851\n",
      " 0.556756  0.219154 -0.801245\n",
      "  p = -0.463958 -0.124716  0.280623\n",
      "\n",
      "[-0.00182315  0.18022936  0.00086191]\n",
      "  R =\n",
      " 0.667689  0.352353  0.655773\n",
      "  0.42337 -0.904297 0.0548235\n",
      " 0.612331   0.24103 -0.752965\n",
      "  p = -0.454388 -0.147518  0.293816\n",
      "\n",
      "[-0.00182315  0.18022936  0.00086191]\n",
      "  R =\n",
      " 0.596747  0.377841  0.707905\n",
      " 0.449642 -0.888142  0.095004\n",
      " 0.664617  0.261611 -0.699889\n",
      "  p = -0.443783 -0.169686   0.30734\n",
      "\n",
      "[-0.00182315  0.18022936  0.00086191]\n",
      "  R =\n",
      " 0.520755  0.400985  0.753674\n",
      " 0.469116 -0.872001    0.1398\n",
      " 0.713263  0.280759 -0.642208\n",
      "  p = -0.432223 -0.191186  0.321149\n",
      "\n",
      "[-0.00182315  0.18022936  0.00086191]\n",
      "  R =\n",
      "  0.44047  0.421948  0.792431\n",
      " 0.481199 -0.856129  0.188393\n",
      " 0.757915  0.298335 -0.580139\n",
      "  p = -0.419787 -0.211993  0.335192\n",
      "\n",
      "[-0.00182315  0.18022936  0.00086191]\n",
      "  R =\n",
      "  0.35672  0.440927   0.82361\n",
      " 0.485385 -0.840751  0.239874\n",
      " 0.798218    0.3142 -0.513932\n",
      "  p = -0.406558 -0.232094  0.349417\n",
      "\n",
      "[-0.00182315  0.18022936  0.00086191]\n",
      "  R =\n",
      "  0.27041  0.458146  0.846747\n",
      " 0.481271 -0.826062  0.293259\n",
      " 0.833821  0.328214 -0.443868\n",
      "  p = -0.392615 -0.251488  0.363771\n",
      "\n",
      "[-0.00182315  0.18022936  0.00086191]\n",
      "  R =\n",
      " 0.182503  0.473858  0.861482\n",
      " 0.468564 -0.812216  0.347495\n",
      " 0.864373   0.34024 -0.370265\n",
      "  p = -0.378035 -0.270183  0.378198\n",
      "\n",
      "[-0.00182315  0.18022936  0.00086191]\n",
      "  R =\n",
      "0.0940138  0.488336  0.867577\n",
      " 0.447093 -0.799329  0.401472\n",
      " 0.889533  0.350144  -0.29348\n",
      "  p =  -0.36289 -0.288198  0.392638\n",
      "\n",
      "[-0.00182315  0.18022936  0.00086191]\n",
      "  R =\n",
      "0.00599443   0.501871   0.864922\n",
      "  0.416819   -0.78747    0.45404\n",
      "   0.90897   0.357795   -0.21391\n",
      "  p = -0.347245 -0.305562   0.40703\n",
      "\n",
      "[-0.00182315  0.18022936  0.00086191]\n",
      "  R =\n",
      "-0.0804776   0.514766   0.853545\n",
      "  0.377842  -0.776658   0.504021\n",
      "  0.922366   0.363068  -0.131997\n",
      "  p = -0.331158  -0.32231  0.421311\n",
      "\n",
      "[-0.00182315  0.18022936  0.00086191]\n",
      "  R =\n",
      " -0.164317   0.527331   0.833619\n",
      "  0.330407  -0.766862    0.55023\n",
      "  0.929425   0.365846 -0.0482255\n",
      "  p = -0.314677 -0.338485  0.435414\n",
      "\n",
      "[-0.00182315  0.18022936  0.00086191]\n",
      "  R =\n",
      "-0.244448  0.539877  0.805467\n",
      " 0.274914 -0.757997  0.591492\n",
      " 0.929875  0.366023 0.0368715\n",
      "  p = -0.297838 -0.354136   0.44927\n",
      "\n",
      "[-0.00182315  0.18022936  0.00086191]\n",
      "  R =\n",
      "-0.319823  0.552705  0.769565\n",
      " 0.211914 -0.749921  0.626666\n",
      " 0.923475  0.363504  0.122716\n",
      "  p = -0.280666 -0.369312  0.462805\n",
      "\n",
      "[-0.00182315  0.18022936  0.00086191]\n",
      "  R =\n",
      "-0.389443  0.566102  0.726541\n",
      " 0.142116 -0.742439  0.654666\n",
      "  0.91002  0.358208  0.208685\n",
      "  p = -0.263175 -0.384064  0.475945\n",
      "\n",
      "[-0.00182315  0.18022936  0.00086191]\n",
      "  R =\n",
      "-0.452377  0.580333  0.677177\n",
      "0.0663798 -0.735298  0.674486\n",
      " 0.889353  0.350073   0.29411\n",
      "  p = -0.245362 -0.398442  0.488611\n",
      "\n",
      "[-0.00182315  0.18022936  0.00086191]\n",
      "  R =\n",
      " -0.507788   0.595629   0.622396\n",
      "-0.0142867  -0.728194   0.685222\n",
      "  0.861363   0.339056   0.378278\n",
      "  p = -0.227216 -0.412491  0.500724\n",
      "\n",
      "[-0.00182315  0.18022936  0.00086191]\n",
      "  R =\n",
      "-0.554951  0.612184  0.563258\n",
      "-0.098739 -0.720775  0.686101\n",
      " 0.826003  0.325137  0.460441\n",
      "  p = -0.208709 -0.426246  0.512201\n",
      "\n",
      "[-0.00182315  0.18022936  0.00086191]\n",
      "  R =\n",
      "-0.593275  0.630142  0.500945\n",
      "-0.185708 -0.712642  0.676501\n",
      " 0.783286  0.308322  0.539815\n",
      "  p = -0.189805 -0.439737  0.522957\n",
      "\n",
      "[-0.00182315  0.18022936  0.00086191]\n",
      "  R =\n",
      "-0.622327  0.649591  0.436739\n",
      "-0.273817 -0.703359   0.65598\n",
      " 0.733303  0.288648  0.615588\n",
      "  p = -0.170454 -0.452976  0.532907\n",
      "\n",
      "[-0.00182315  0.18022936  0.00086191]\n",
      "  R =\n",
      "-0.641845  0.670557  0.372007\n",
      "-0.361603 -0.692461  0.624292\n",
      " 0.676224   0.26618  0.686928\n",
      "  p = -0.150603 -0.465965  0.541965\n",
      "\n",
      "[-0.00182315  0.18022936  0.00086191]\n",
      "  R =\n",
      "-0.651759  0.692995  0.308169\n",
      "-0.447545 -0.679461  0.581408\n",
      " 0.612302  0.241018  0.752991\n",
      "  p = -0.130187 -0.478685  0.550044\n",
      "\n",
      "[-0.00182315  0.18022936  0.00086191]\n",
      "  R =\n",
      "-0.652202  0.716788  0.246672\n",
      "-0.530086 -0.663865  0.527533\n",
      " 0.541886  0.213301  0.812934\n",
      "  p = -0.109143   -0.4911   0.55706\n",
      "\n",
      "[-0.00182315  0.18022936  0.00086191]\n",
      "  R =\n",
      " -0.64352   0.74174  0.188954\n",
      "-0.607673 -0.645181  0.463115\n",
      "  0.46542  0.183202  0.865922\n",
      "  p = -0.0874036  -0.503152   0.562931\n",
      "\n",
      "[-0.00182315  0.18022936  0.00086191]\n",
      "  R =\n",
      "-0.626275  0.767576   0.13641\n",
      "-0.678785 -0.622934  0.388851\n",
      " 0.383447  0.150935  0.911146\n",
      "  p = -0.0649087  -0.514763   0.567578\n",
      "\n",
      "[-0.00182315  0.18022936  0.00086191]\n",
      "  R =\n",
      "-0.601244  0.793941 0.0903532\n",
      "-0.741976 -0.596679   0.30569\n",
      " 0.296612  0.116754  0.947834\n",
      "  p = -0.0416034  -0.525834   0.570927\n",
      "\n",
      "[-0.00182315  0.18022936  0.00086191]\n",
      "  R =\n",
      "-0.569412  0.820407 0.0519763\n",
      " -0.79591  -0.56602  0.214822\n",
      " 0.205661 0.0809536  0.975269\n",
      "  p = -0.0174447  -0.536241    0.57291\n",
      "\n",
      "[-0.00182315  0.18022936  0.00086191]\n",
      "  R =\n",
      "-0.531961  0.846475 0.0223112\n",
      "-0.839404 -0.530619  0.117666\n",
      "  0.11144 0.0438659  0.992803\n",
      "  p = 0.0075953 -0.545844  0.573468\n",
      "\n",
      "[-0.00182315  0.18022936  0.00086191]\n",
      "  R =\n",
      " -0.490245   0.871582 0.00219181\n",
      " -0.871458  -0.490214  0.0158528\n",
      " 0.0148915 0.00586167   0.999872\n",
      "  p = 0.0335253 -0.554485   0.57255\n",
      "\n",
      "[-0.00182315  0.18022936  0.00086191]\n",
      "  R =\n",
      "  -0.445764    0.895117 -0.00778099\n",
      "  -0.891298   -0.444635  -0.0888118\n",
      " -0.0829566  -0.0326539    0.996018\n",
      "  p = 0.0603312 -0.561987  0.570117\n",
      "\n",
      "[-0.00182315  0.18022936  0.00086191]\n"
     ]
    }
   ],
   "source": [
    "# %load lab_0/generated/simple_pick_and_place_4\n",
    "q = q_init.copy()\n",
    "# Random velocity of the robot driving the movement\n",
    "vq = np.array([2.0, 0, 0, 4.0, 0, 0])\n",
    "\n",
    "idx = robot.index(\"wrist_3_joint\")\n",
    "o_eff = robot.placement(\n",
    "    q, idx\n",
    ").translation  # Position of end-eff wrt world at current configuration\n",
    "o_ball = q_ball[:3]  # Position of ball wrt world\n",
    "eff_ball = o_ball - o_eff  # Position of ball wrt eff\n",
    "\n",
    "for i in range(100):\n",
    "    # Chose new configuration of the robot\n",
    "    q = q + vq / 40\n",
    "    q[2] = 1.71 + math.sin(i * 0.05) / 2\n",
    "\n",
    "    # Gets the new position of the ball\n",
    "    o_ball = robot.placement(q, 6) * eff_ball\n",
    "    print(robot.placement(q, 6))\n",
    "    print(eff_ball)\n",
    "    # Why are we multiplying by the vector rather than adding it?\n",
    "\n",
    "    # Display new configuration for robot and ball\n",
    "    viz.applyConfiguration(ballID, o_ball.tolist() + [1, 0, 0, 0])\n",
    "    viz.display(q)\n",
    "    time.sleep(1e-2)\n",
    "\n"
   ]
  },
  {
   "cell_type": "markdown",
   "metadata": {},
   "source": [
    "### Pick and place in 6D\n",
    "\n",
    "Say now that the object is a rectangle and not a sphere. Pick the object at a reference position with the rotation that is imposed, so that the end effector is aligned with one of the faces of the rectangle.\n"
   ]
  },
  {
   "cell_type": "code",
   "execution_count": 31,
   "metadata": {},
   "outputs": [],
   "source": [
    "# %load lab_0/generated/simple_pick_and_place_5\n",
    "# Add a purple box to the viewer\n",
    "boxID = \"world/box\"\n",
    "# viz.delete(ballID)\n",
    "viz.addBox(boxID, [0.1, 0.2, 0.1], colors.magenta)\n",
    "\n",
    "# Place the box at the position (0.5, 0.1, 0.2)\n",
    "q_box = [0.5, 0.1, 0.2, 1, 0, 0, 0]\n",
    "viz.applyConfiguration(boxID, q_box)\n",
    "viz.applyConfiguration(ballID, [2, 2, 2, 1, 0, 0, 0])\n"
   ]
  },
  {
   "cell_type": "markdown",
   "metadata": {},
   "source": [
    "A configuration with the arm nicely attached to the box is:"
   ]
  },
  {
   "cell_type": "code",
   "execution_count": 32,
   "metadata": {},
   "outputs": [],
   "source": [
    "# %load lab_0/generated/simple_pick_and_place_6\n",
    "q0 = np.zeros(NQ)\n",
    "q0[0] = -0.375\n",
    "q0[1] = -1.2\n",
    "q0[2] = 1.71\n",
    "q0[3] = -q0[1] - q0[2]\n",
    "q0[4] = q0[0]\n",
    "\n",
    "viz.display(q0)\n",
    "q = q0.copy()\n"
   ]
  },
  {
   "cell_type": "markdown",
   "metadata": {},
   "source": [
    "Redo the same question as before, but now also choosing the orientation of the box. For that, at each robot configuration in the for-loop, we will compute the entire box placement with respect the world (let's denote it by oMbox) and display both the box and the robot configuration in the view."
   ]
  },
  {
   "cell_type": "code",
   "execution_count": 34,
   "metadata": {},
   "outputs": [],
   "source": [
    "# %load lab_0/generated/simple_pick_and_place_7\n",
    "# Random velocity of the robot driving the movement\n",
    "vq = np.array([2., 0, 0, 4., 0, 0])\n",
    "q = q0.copy()\n",
    "idx = robot.index('wrist_3_joint')\n",
    "oMeff = robot.placement(q, idx)  # Placement of end-eff wrt world at current configuration\n",
    "oMbox = pin.XYZQUATToSE3(q_box)  # Placement of box     wrt world\n",
    "effMbox = oMeff.inverse() * oMbox  # Placement of box     wrt eff\n",
    "\n",
    "for i in range(100):\n",
    "    # Chose new configuration of the robot\n",
    "    q += vq / 40\n",
    "    q[2] = 1.71 + math.sin(i * 0.05) / 2\n",
    "\n",
    "    # Gets the new position of the box\n",
    "    oMbox = robot.placement(q, idx) * effMbox\n",
    "\n",
    "    # Display new configuration for robot and box\n",
    "    viz.applyConfiguration(boxID, oMbox)\n",
    "    viz.display(q)\n",
    "    time.sleep(1e-2)\n"
   ]
  },
  {
   "cell_type": "markdown",
   "metadata": {},
   "source": [
    "## Inverse geometry\n",
    "\n",
    "As you can see, forward geometry is easy to implement in pinocchio. Let's not see how to deal with inverse geometry.\n",
    "\n",
    "### Inverse geometry in 3D\n",
    "\n",
    "Let's now first control the position (i.e. translation only) of the end effector of a manipulator robot to a given position. For this first part, we will use the fixed serial-chain robot model.\n",
    "\n",
    "Recall first that the position (3D) of the joint with index \"i=6\" at position \"q\" can be accessed with:"
   ]
  },
  {
   "cell_type": "code",
   "execution_count": 35,
   "metadata": {},
   "outputs": [
    {
     "data": {
      "text/plain": [
       "array([ 0.06033124, -0.56198697,  0.57011662])"
      ]
     },
     "execution_count": 35,
     "metadata": {},
     "output_type": "execute_result"
    }
   ],
   "source": [
    "robot.placement(q, 6).translation"
   ]
  },
  {
   "cell_type": "markdown",
   "metadata": {},
   "source": [
    "Using the scipy solver [used in the previous notebook](2_inv_geom.ipynb#section_optim), compute a configuration q where the end effector reaches p. For that, implement a cost function that takes a configuration as argument and returns the squared distance between the end effetor and the target."
   ]
  },
  {
   "cell_type": "code",
   "execution_count": 36,
   "metadata": {},
   "outputs": [],
   "source": [
    "%do_not_load lab_0/generated/invgeom3d_1"
   ]
  },
  {
   "cell_type": "markdown",
   "metadata": {},
   "source": [
    "### Inverse geometry in 6D\n",
    "Now, let's update the previous cost function for measuring the \"distance\" between the current placement root.placement(q,6) and a reference placement oMtarget. \n",
    "For that, you can use the SE(3) log function to score the distance between two placements. The log returns a 6D velocity, represented by a class Motion, that must be transformed to a vector of R^6 from which you can take the norm.\n"
   ]
  },
  {
   "cell_type": "code",
   "execution_count": 39,
   "metadata": {},
   "outputs": [
    {
     "data": {
      "text/plain": [
       "array([0., 0., 0., 0., 0., 0.])"
      ]
     },
     "execution_count": 39,
     "metadata": {},
     "output_type": "execute_result"
    }
   ],
   "source": [
    "pin.log(pin.SE3.Identity()).vector"
   ]
  },
  {
   "cell_type": "markdown",
   "metadata": {},
   "source": [
    "As a target we can define"
   ]
  },
  {
   "cell_type": "code",
   "execution_count": 40,
   "metadata": {},
   "outputs": [],
   "source": [
    "oMtarget = pin.SE3(pin.utils.rotate(\"x\", 3.14 / 4), np.array([-0.5, 0.1, 0.2]))  # x,y,z"
   ]
  },
  {
   "cell_type": "code",
   "execution_count": null,
   "metadata": {},
   "outputs": [],
   "source": [
    "# %load lab_0/generated/invgeom6d_1\n",
    "# Add a vizualisation for the tip of the arm.\n",
    "tipID = \"world/blue\"\n",
    "viz.addBox(tipID, [0.08] * 3, [0.2, 0.2, 1.0, 0.5])\n",
    "\n",
    "#\n",
    "# OPTIM 6D #########################################################\n",
    "#\n",
    "def cost(q):\n",
    "    \"\"\"Compute score from a configuration\"\"\"\n",
    "    M = robot.placement(q, 6)\n",
    "    return norm(pin.log(M.inverse() * oMtarget).vector)\n",
    "\n",
    "\n",
    "def callback(q):\n",
    "    viz.applyConfiguration(boxID, oMtarget)\n",
    "    viz.applyConfiguration(tipID, robot.placement(q, 6))\n",
    "    viz.display(q)\n",
    "    time.sleep(1e-1)\n",
    "\n",
    "qopt = fmin_bfgs(cost, robot.q0, callback=callback)\n",
    "\n",
    "print(\"The robot finally reached effector placement at\\n\", robot.placement(qopt, 6))\n"
   ]
  },
  {
   "cell_type": "markdown",
   "metadata": {},
   "source": [
    "### Optimizing in the quaternion space\n",
    "\n",
    "Let's now work with a floating robot: the quadruped solo. This robot has 12 joints, but it's configuration (Q-space) is of dimension 19 (robot.model.nq). Its tangent space (where the velocities are expressed) is of dimension 18 (robot.model.nv). This is because we need 7D vector to encode the robot placement in space (a 3D position and a 4D quaternion).\n"
   ]
  },
  {
   "cell_type": "code",
   "execution_count": 42,
   "metadata": {},
   "outputs": [
    {
     "name": "stdout",
     "output_type": "stream",
     "text": [
      "You can open the visualizer by visiting the following URL:\n",
      "http://127.0.0.1:7002/static/\n"
     ]
    },
    {
     "data": {
      "text/html": [
       "\n",
       "            <div style=\"height: 400px; width: 100%; overflow-x: auto; overflow-y: hidden; resize: both\">\n",
       "            <iframe src=\"http://127.0.0.1:7002/static/\" style=\"width: 100%; height: 100%; border: none\"></iframe>\n",
       "            </div>\n",
       "            "
      ],
      "text/plain": [
       "<IPython.core.display.HTML object>"
      ]
     },
     "execution_count": 42,
     "metadata": {},
     "output_type": "execute_result"
    }
   ],
   "source": [
    "robot = robex.load('solo12')\n",
    "viz = MeshcatVisualizer(robot)\n",
    "viz.viewer.jupyter_cell()"
   ]
  },
  {
   "cell_type": "code",
   "execution_count": 43,
   "metadata": {},
   "outputs": [],
   "source": [
    "viz.display(robot.q0)"
   ]
  },
  {
   "cell_type": "markdown",
   "metadata": {},
   "source": [
    "\n",
    "Run the following code. Can you explain what just happened? Then correct it to have a proper optimization of ANYmal configuration."
   ]
  },
  {
   "cell_type": "code",
   "execution_count": 44,
   "metadata": {},
   "outputs": [
    {
     "name": "stdout",
     "output_type": "stream",
     "text": [
      "Optimization terminated successfully.\n",
      "         Current function value: 0.000000\n",
      "         Iterations: 46\n",
      "         Function evaluations: 1060\n",
      "         Gradient evaluations: 53\n"
     ]
    }
   ],
   "source": [
    "# %load lab_0/generated/floating_1\n",
    "robot.feetIndexes = [\n",
    "    robot.model.getFrameId(frameName)\n",
    "    for frameName in [\"HR_FOOT\", \"HL_FOOT\", \"FR_FOOT\", \"FL_FOOT\"]\n",
    "]\n",
    "\n",
    "# --- Add box to represent target\n",
    "colors = [\"red\", \"blue\", \"green\", \"magenta\"]\n",
    "for color in colors:\n",
    "    viz.addSphere(\"world/%s\" % color, 0.05, color)\n",
    "    viz.addSphere(\"world/%s_des\" % color, 0.05, color)\n",
    "\n",
    "#\n",
    "# OPTIM 6D #########################################################\n",
    "#\n",
    "\n",
    "targets = [\n",
    "    np.array([-0.7, -0.2, 1.2]),\n",
    "    np.array([-0.3, 0.5, 0.8]),\n",
    "    np.array([0.3, 0.1, -0.1]),\n",
    "    np.array([0.9, 0.9, 0.5]),\n",
    "]\n",
    "for i in range(4):\n",
    "    targets[i][2] += 1\n",
    "\n",
    "\n",
    "def cost(q):\n",
    "    \"\"\"Compute score from a configuration\"\"\"\n",
    "    cost = 0.0\n",
    "    for i in range(4):\n",
    "        p_i = robot.framePlacement(q, robot.feetIndexes[i]).translation\n",
    "        cost += norm(p_i - targets[i]) ** 2\n",
    "    return cost\n",
    "\n",
    "\n",
    "def callback(q):\n",
    "    for i in range(4):\n",
    "        p_i = robot.framePlacement(q, robot.feetIndexes[i])\n",
    "        viz.applyConfiguration(\"world/%s\" % colors[i], p_i)\n",
    "        viz.applyConfiguration(\n",
    "            \"world/%s_des\" % colors[i], list(targets[i]) + [1, 0, 0, 0]\n",
    "        )\n",
    "    \n",
    "    viz.display(q)\n",
    "    time.sleep(1e-2)\n",
    "\n",
    "\n",
    "Mtarget = pin.SE3(pin.utils.rotate(\"x\", 3.14 / 4), np.array([0.5, 0.1, 0.2]))  # x,y,z\n",
    "qopt = fmin_bfgs(cost, robot.q0, callback=callback)\n"
   ]
  },
  {
   "cell_type": "markdown",
   "metadata": {},
   "source": [
    "## Optional Configuration of parallel robots\n",
    "\n",
    "The following exercise is optional and won't be corrected, but you are free to discuss it on piazza.\n",
    "\n",
    "A parallel robot is composed of several kinematic chains (called the robot legs) that are all attached to the same end effector. This imposes strict constraints in the configuration space of the robot: a configuration is valide iff all the legs meets the same end-effector placement. We consider here only the geometry aspect of parallel robots (additionnally, some joints are not actuated, which causes additional problems).\n",
    "\n",
    "The kinematic structure of a parallel robot indeed induces loops in the joint connection graph. In Pinocchio, we can only represent (one of) the underlying kinematic tree. The loop constraints have to be handled separately. An example that loads 4 manipulator arms is given below."
   ]
  },
  {
   "cell_type": "code",
   "execution_count": 46,
   "metadata": {},
   "outputs": [
    {
     "ename": "ModuleNotFoundError",
     "evalue": "No module named 'utils.load_ur5_parallel'",
     "output_type": "error",
     "traceback": [
      "\u001b[0;31m---------------------------------------------------------------------------\u001b[0m",
      "\u001b[0;31mModuleNotFoundError\u001b[0m                       Traceback (most recent call last)",
      "Cell \u001b[0;32mIn[46], line 1\u001b[0m\n\u001b[0;32m----> 1\u001b[0m \u001b[38;5;28;01mfrom\u001b[39;00m \u001b[38;5;21;01mutils\u001b[39;00m\u001b[38;5;21;01m.\u001b[39;00m\u001b[38;5;21;01mload_ur5_parallel\u001b[39;00m \u001b[38;5;28;01mimport\u001b[39;00m load_ur5_parallel  \u001b[38;5;66;03m# noqa: E402\u001b[39;00m\n\u001b[1;32m      3\u001b[0m robot \u001b[38;5;241m=\u001b[39m load_ur5_parallel()\n",
      "\u001b[0;31mModuleNotFoundError\u001b[0m: No module named 'utils.load_ur5_parallel'"
     ]
    }
   ],
   "source": [
    "from utils.load_ur5_parallel import load_ur5_parallel  # noqa: E402\n",
    "\n",
    "robot = load_ur5_parallel()"
   ]
  },
  {
   "cell_type": "code",
   "execution_count": 104,
   "metadata": {
    "scrolled": true
   },
   "outputs": [
    {
     "name": "stdout",
     "output_type": "stream",
     "text": [
      "You can open the visualizer by visiting the following URL:\n",
      "http://127.0.0.1:7009/static/\n"
     ]
    },
    {
     "data": {
      "text/html": [
       "\n",
       "            <div style=\"height: 400px; width: 100%; overflow-x: auto; overflow-y: hidden; resize: both\">\n",
       "            <iframe src=\"http://127.0.0.1:7009/static/\" style=\"width: 100%; height: 100%; border: none\"></iframe>\n",
       "            </div>\n",
       "            "
      ],
      "text/plain": [
       "<IPython.core.display.HTML object>"
      ]
     },
     "execution_count": 104,
     "metadata": {},
     "output_type": "execute_result"
    }
   ],
   "source": [
    "viz = MeshcatVisualizer(robot)\n",
    "viz.viewer.jupyter_cell()"
   ]
  },
  {
   "cell_type": "code",
   "execution_count": 109,
   "metadata": {},
   "outputs": [],
   "source": [
    "viz.display(robot.q0)"
   ]
  },
  {
   "cell_type": "code",
   "execution_count": 110,
   "metadata": {},
   "outputs": [],
   "source": [
    "[w, h, d] = [0.5, 0.5, 0.005]\n",
    "color = [red, green, blue, transparency] = [1, 1, 0.78, .8]\n",
    "viz.addBox('world/robot0/toolplate', [w, h, d], color)\n",
    "Mtool = pin.SE3(pin.utils.rotate('z', 1.268), np.array([0, 0, .75]))\n",
    "viz.applyConfiguration('world/robot0/toolplate', Mtool)"
   ]
  },
  {
   "cell_type": "markdown",
   "metadata": {},
   "source": [
    "The 4 legs of the robot are loaded in a single robot model. The 4 effector placements are computed by:"
   ]
  },
  {
   "cell_type": "code",
   "execution_count": 111,
   "metadata": {},
   "outputs": [
    {
     "data": {
      "text/plain": [
       "  R =\n",
       "   -0.707107    -0.707107 -3.46245e-12\n",
       "    0.707107    -0.707107 -3.46236e-12\n",
       "-6.12323e-17 -4.89664e-12            1\n",
       "  p = 0.306122 0.160483 0.749342"
      ]
     },
     "execution_count": 111,
     "metadata": {},
     "output_type": "execute_result"
    }
   ],
   "source": [
    "effIdxs = [robot.model.getFrameId('tool0_#%d' % i) for i in range(4)]\n",
    "robot.framePlacement(robot.q0, effIdxs[0])"
   ]
  },
  {
   "cell_type": "markdown",
   "metadata": {},
   "source": [
    "The loop constraints are that the relative placement of every leg end-effector must stay the same as it was in the initial configuration (at the configuration *robot.q0*) and the plate placement *Mtool*. To be valid, a configuration *q* must satisfy these 4 relative placement constraints.\n",
    "\n",
    "Consider now that the orientation of the tool plate is given by the following quaternion, with the translation that you like (see [the notebook about rotations if you need more details](appendix_quaternions.ipynb)): \n",
    "\n"
   ]
  },
  {
   "cell_type": "code",
   "execution_count": 108,
   "metadata": {},
   "outputs": [
    {
     "name": "stdout",
     "output_type": "stream",
     "text": [
      "[[ 0.13978495 -0.8172043   0.55913978]\n",
      " [ 0.98924731  0.13978495 -0.04301075]\n",
      " [-0.04301075  0.55913978  0.82795699]]\n"
     ]
    }
   ],
   "source": [
    "quat = pin.Quaternion(0.7, 0.2, 0.2, 0.6).normalized()\n",
    "print(quat.matrix())"
   ]
  },
  {
   "cell_type": "markdown",
   "metadata": {},
   "source": [
    "**Find using the above optimization routines the configuration of each robot leg so that the loop constraints are all met** for the new orientation of the plate."
   ]
  }
 ],
 "metadata": {
  "kernelspec": {
   "display_name": "aro-tut",
   "language": "python",
   "name": "python3"
  },
  "language_info": {
   "codemirror_mode": {
    "name": "ipython",
    "version": 3
   },
   "file_extension": ".py",
   "mimetype": "text/x-python",
   "name": "python",
   "nbconvert_exporter": "python",
   "pygments_lexer": "ipython3",
   "version": "3.9.23"
  }
 },
 "nbformat": 4,
 "nbformat_minor": 4
}
